{
 "cells": [
  {
   "cell_type": "code",
   "execution_count": 16,
   "metadata": {},
   "outputs": [],
   "source": [
    "data=[]\n",
    "file_name = \"../dataset/中国租房信息数据集.csv\"\n",
    "with open(file=file_name,mode='r',encoding='utf8') as f:\n",
    "    keys = f.readline().strip().split(',')\n",
    "    keys = keys[1:3]+keys[-29:]\n",
    "    for idx,line in enumerate(f):\n",
    "        line = line.strip()\n",
    "        # 删除地址详情列\n",
    "        if line:\n",
    "            line = line.split(',')\n",
    "            line = line[1:3]+line[-29:]\n",
    "        data.append(line)\n",
    "import numpy as np\n",
    "data = np.array(data, dtype=object)\n",
    "data_dict = {keys[i]: data[:, i] for i in range(data.shape[1])}"
   ]
  },
  {
   "cell_type": "code",
   "execution_count": 17,
   "metadata": {},
   "outputs": [],
   "source": [
    "import pandas as pd\n",
    "df = pd.DataFrame(data_dict)\n",
    "\n",
    "# 特征和目标变量\n",
    "X = df.drop(columns=['价格'])\n",
    "y = pd.to_numeric(df['价格'])"
   ]
  },
  {
   "cell_type": "code",
   "execution_count": 18,
   "metadata": {},
   "outputs": [
    {
     "name": "stdout",
     "output_type": "stream",
     "text": [
      "真实数据:特征  租房网站名称      小区  城市   区  室  卫  厅     面积 朝向 所属楼层  ... 是否有热水器 是否有宽带 是否有燃气  \\\n",
      "5    房天下  东海国际公寓  深圳  福田  3  1  2  200.0       2  ...      1     0     1   \n",
      "\n",
      "  是否有暖气          lng          lat 最近学校距离 周边学校个数 最近医院距离 周边医院个数  \n",
      "5     0  114.0280046  22.54280875   1591     85   2869     90  \n",
      "\n",
      "[1 rows x 30 columns]价格：30000.0\n"
     ]
    }
   ],
   "source": [
    "# 取出一条数据模拟真实数据\n",
    "idx = 5 \n",
    "X_true = X[idx:idx+1]\n",
    "y_true = y[idx]\n",
    "print(f'真实数据:特征{X_true}价格：{y_true}')"
   ]
  },
  {
   "cell_type": "code",
   "execution_count": 19,
   "metadata": {},
   "outputs": [
    {
     "name": "stdout",
     "output_type": "stream",
     "text": [
      "模型./models2\\decisionTreeRegressorModel.pkl预测的结果为：30000.0\n",
      "模型./models2\\gradientBoostingRegressorModel.pkl预测的结果为：16469.371758169065\n",
      "模型./models2\\kNeighborsRegressorModel.pkl预测的结果为：28620.0\n",
      "模型./models2\\linearRegressionModel.pkl预测的结果为：27892.03184987315\n",
      "模型./models2\\randomForestRegressorModel.pkl预测的结果为：27065.0\n",
      "模型./models2\\SVRModel.pkl预测的结果为：5085.918637833479\n"
     ]
    }
   ],
   "source": [
    "# 多模型同时预测\n",
    "# 读取出./models中所有的模型\n",
    "import os\n",
    "import joblib\n",
    "# 模型文件夹路径\n",
    "models_folder = './models2'\n",
    "# 遍历文件夹下所有文件\n",
    "for filename in os.listdir(models_folder):\n",
    "    if filename.endswith('.pkl'):\n",
    "        model_path = os.path.join(models_folder, filename)\n",
    "        # 读取模型\n",
    "        model = joblib.load(model_path)\n",
    "        # 在这里可以进行进一步的操作，例如模型的评估或者推断\n",
    "        y_pred = model.predict(X_true)\n",
    "        print(f\"模型{model_path}预测的结果为：{y_pred[0]}\")"
   ]
  },
  {
   "cell_type": "code",
   "execution_count": null,
   "metadata": {},
   "outputs": [],
   "source": []
  }
 ],
 "metadata": {
  "kernelspec": {
   "display_name": "base",
   "language": "python",
   "name": "python3"
  },
  "language_info": {
   "codemirror_mode": {
    "name": "ipython",
    "version": 3
   },
   "file_extension": ".py",
   "mimetype": "text/x-python",
   "name": "python",
   "nbconvert_exporter": "python",
   "pygments_lexer": "ipython3",
   "version": "3.11.7"
  }
 },
 "nbformat": 4,
 "nbformat_minor": 2
}
