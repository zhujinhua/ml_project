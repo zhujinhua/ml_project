{
 "cells": [
  {
   "cell_type": "code",
   "execution_count": 2,
   "metadata": {},
   "outputs": [
    {
     "data": {
      "text/plain": [
       "(18886, 31)"
      ]
     },
     "execution_count": 2,
     "metadata": {},
     "output_type": "execute_result"
    }
   ],
   "source": [
    "data=[]\n",
    "file_name = \"../../dataset/中国租房信息数据集.csv\"\n",
    "with open(file=file_name,mode='r',encoding='utf8') as f:\n",
    "    f.readline()\n",
    "    for idx,line in enumerate(f):\n",
    "        line = line.strip()\n",
    "        # 删除地址详情列\n",
    "        if line:\n",
    "            line = line.split(',')\n",
    "            line = line[1:3]+line[-29:]\n",
    "        data.append(line)\n",
    "import numpy as np\n",
    "data = np.array(data)\n",
    "data.shape"
   ]
  },
  {
   "cell_type": "code",
   "execution_count": 3,
   "metadata": {},
   "outputs": [
    {
     "data": {
      "text/plain": [
       "array([['113.8226171', '22.73914878'],\n",
       "       ['113.8228995', '22.66512137'],\n",
       "       ['113.9455797', '22.49108674'],\n",
       "       ...,\n",
       "       ['114.2471828', '22.56764297'],\n",
       "       ['114.2446433', '22.55905175'],\n",
       "       ['114.2496825', '22.56755111']], dtype='<U18')"
      ]
     },
     "execution_count": 3,
     "metadata": {},
     "output_type": "execute_result"
    }
   ],
   "source": [
    "# 经纬度\n",
    "data[:,-6:-4]"
   ]
  },
  {
   "cell_type": "code",
   "execution_count": 4,
   "metadata": {},
   "outputs": [],
   "source": [
    "# 计算单价\n",
    "def getPrice(data):\n",
    "    area = np.array(data[:,8], dtype=float)\n",
    "    totalPrice = np.array(data[:,4], dtype=float)\n",
    "    price =  totalPrice/ area\n",
    "    return price,area\n",
    "price,area = getPrice(data)"
   ]
  },
  {
   "cell_type": "code",
   "execution_count": 5,
   "metadata": {},
   "outputs": [],
   "source": [
    "# ! pip install folium"
   ]
  },
  {
   "cell_type": "code",
   "execution_count": 6,
   "metadata": {},
   "outputs": [],
   "source": [
    "# 地图热度图\n",
    "import folium\n",
    "from folium.plugins import HeatMap\n",
    "import pandas as pd\n",
    "\n",
    "# 示例数据\n",
    "dataFrame = pd.DataFrame({\n",
    "    'latitude': data[:,-5],\n",
    "    'longitude': data[:,-6],\n",
    "    'value':price\n",
    "})\n",
    "\n",
    "# 创建地图\n",
    "m = folium.Map(location=[31.29606705,121.5189793], zoom_start=5)\n",
    "\n",
    "# 创建热度图\n",
    "heat_data = [[row['latitude'], row['longitude'], row['value']] for index, row in dataFrame.iterrows()]\n",
    "HeatMap(heat_data).add_to(m)\n",
    "\n",
    "# 保存地图\n",
    "m.save('heatmap.html')\n"
   ]
  },
  {
   "cell_type": "code",
   "execution_count": 7,
   "metadata": {},
   "outputs": [
    {
     "data": {
      "text/plain": [
       "27"
      ]
     },
     "execution_count": 7,
     "metadata": {},
     "output_type": "execute_result"
    }
   ],
   "source": [
    "# 选出离散特征预处理（去掉面积、价格和经纬度）\n",
    "# 多个范围的列索引\n",
    "ranges = [\n",
    "    np.arange(0, 4),  \n",
    "    np.arange(5, 25),  \n",
    "    np.arange(28,31), \n",
    "]\n",
    "\n",
    "# 合并多个范围的列索引\n",
    "data_X = np.concatenate([data[:, idx] for idx in ranges], axis=1)\n",
    "len(data_X[0])  # 27"
   ]
  },
  {
   "cell_type": "code",
   "execution_count": 8,
   "metadata": {},
   "outputs": [
    {
     "name": "stdout",
     "output_type": "stream",
     "text": [
      "[[0. 1. 0. ... 0. 0. 0.]\n",
      " [0. 1. 0. ... 0. 0. 0.]\n",
      " [0. 1. 0. ... 0. 0. 0.]\n",
      " ...\n",
      " [0. 0. 1. ... 0. 0. 0.]\n",
      " [0. 0. 1. ... 0. 0. 0.]\n",
      " [0. 0. 1. ... 0. 0. 0.]]\n",
      "(18886, 12989)\n"
     ]
    }
   ],
   "source": [
    "# 存储独热编码后的列矩阵\n",
    "one_hot_encoded_columns = []\n",
    "\n",
    "# 遍历每一列\n",
    "for i in range(data_X.shape[1]):\n",
    "    data_column = data_X[:, i]\n",
    "    unique_values, inverse_indices = np.unique(data_column, return_inverse=True)\n",
    "    \n",
    "    # 创建独热编码矩阵\n",
    "    one_hot_matrix = np.eye(len(unique_values))[inverse_indices]\n",
    "    \n",
    "    one_hot_encoded_columns.append(one_hot_matrix)\n",
    "\n",
    "# 将所有独热编码矩阵横向拼接成一个最终矩阵\n",
    "result = np.hstack(one_hot_encoded_columns)\n",
    "\n",
    "print(result)\n",
    "print(result.shape)\n",
    "# 输出的形状应该是 (18886, sum(每列唯一值的个数))"
   ]
  },
  {
   "cell_type": "code",
   "execution_count": 9,
   "metadata": {},
   "outputs": [],
   "source": [
    "X = result  # 独热矩阵\n",
    "# y 带单价和面积\n",
    "y = np.hstack((price.reshape(-1, 1), area.reshape(-1, 1)))\n"
   ]
  },
  {
   "cell_type": "code",
   "execution_count": 10,
   "metadata": {},
   "outputs": [],
   "source": [
    "from sklearn.decomposition import PCA # 主成分分析\n",
    "pca = PCA(n_components=15) # 降维\n",
    "pca.fit(X=X)\n",
    "X= pca.transform(X)"
   ]
  },
  {
   "cell_type": "code",
   "execution_count": 11,
   "metadata": {},
   "outputs": [
    {
     "data": {
      "text/plain": [
       "(array([[-1.43964451,  0.39742572, -1.27541306, ...,  0.37436745,\n",
       "         -0.19718966,  0.19306646],\n",
       "        [-0.66648749,  1.09657513,  0.97881837, ..., -0.26225404,\n",
       "         -0.80905552, -0.75002719],\n",
       "        [-0.26690051,  1.41892295, -0.2753651 , ..., -0.90417531,\n",
       "         -0.66440055,  0.09226001],\n",
       "        ...,\n",
       "        [-1.40352107,  0.34766837, -1.1785008 , ...,  0.40254521,\n",
       "         -0.13486172,  0.22257503],\n",
       "        [-1.34099238, -0.0557041 ,  0.65469841, ..., -0.31433905,\n",
       "         -0.24728203, -0.28865686],\n",
       "        [-0.43339584, -0.70540462, -0.29739515, ..., -0.13470431,\n",
       "          0.69022608, -0.58844847]]),\n",
       " array([[-1.39702333,  0.42266065, -0.99818921, ...,  0.2396328 ,\n",
       "          0.03625243, -0.14887713],\n",
       "        [-1.01182291,  0.86505097,  0.40209599, ...,  0.39513735,\n",
       "          0.02527091,  0.11502735],\n",
       "        [-0.31706245, -1.89346267,  0.51205627, ..., -0.50006505,\n",
       "          0.06429885,  0.47047823],\n",
       "        ...,\n",
       "        [-1.33645259, -0.26582322, -0.07220466, ..., -0.02442566,\n",
       "          0.10455917,  0.05923916],\n",
       "        [-0.72536709,  1.52680683,  1.15667252, ..., -0.52570508,\n",
       "          0.37814881, -0.05054632],\n",
       "        [ 1.06537283,  2.1404232 ,  0.60226455, ...,  0.12260533,\n",
       "          0.24638883,  0.22386471]]),\n",
       " array([[ 57.69230769,  52.        ],\n",
       "        [113.92405063,  79.        ],\n",
       "        [116.66666667,  12.        ],\n",
       "        ...,\n",
       "        [108.33333333,  60.        ],\n",
       "        [110.81081081,  74.        ],\n",
       "        [ 51.13636364,  88.        ]]),\n",
       " array([[ 30.33707865,  89.        ],\n",
       "        [ 80.        ,  50.        ],\n",
       "        [171.42857143, 175.        ],\n",
       "        ...,\n",
       "        [ 54.16666667, 120.        ],\n",
       "        [ 97.22222222,  36.        ],\n",
       "        [ 54.54545455,  22.        ]]))"
      ]
     },
     "execution_count": 11,
     "metadata": {},
     "output_type": "execute_result"
    }
   ],
   "source": [
    "# 数据拆分\n",
    "from sklearn.model_selection import train_test_split\n",
    "X_train, X_test, y_train, y_test = train_test_split(X, y, test_size=0.2, shuffle=True,random_state=0)\n",
    "X_train, X_test, y_train, y_test"
   ]
  },
  {
   "cell_type": "code",
   "execution_count": 12,
   "metadata": {},
   "outputs": [],
   "source": [
    "# 使用 平方误差（Squared Error，SE）和 平均绝对误差（Mean Absolute Error，MAE）评估模型\n",
    "from sklearn.metrics import mean_squared_error, mean_absolute_error, r2_score\n",
    "# 假设有多个模型的性能指标数据\n",
    "models = []\n",
    "mse_scores = []   # 均方误差（MSE）分数\n",
    "mae_scores = []     # 平均绝对误差（MAE）分数\n",
    "r2_scores = []    # 模型解释总方差的比例，范围为0到1，越接近1说明模型越好\n",
    "def assess(model,y_pred):\n",
    "    # 评估模型性能\n",
    "    mse = mean_squared_error(y_test[:,0]*y_test[:,1], y_pred*y_test[:,1])\n",
    "    mae = mean_absolute_error(y_test[:,0]*y_test[:,1], y_pred*y_test[:,1])\n",
    "    r2 = r2_score(y_test[:,0]*y_test[:,1], y_pred*y_test[:,1])\n",
    "    models.append(model)\n",
    "    mse_scores.append(mse)\n",
    "    mae_scores.append(mae)\n",
    "    r2_scores.append(r2)\n",
    "    print(f\"Mean Squared Error: {mse}\")\n",
    "    print(f\"Mean Absolute Error: {mae}\") \n",
    "    print(f\"R2 Score: {r2}\")"
   ]
  },
  {
   "cell_type": "code",
   "execution_count": 13,
   "metadata": {},
   "outputs": [
    {
     "name": "stdout",
     "output_type": "stream",
     "text": [
      "Mean Squared Error: 160192202.96337062\n",
      "Mean Absolute Error: 3441.64512699415\n",
      "R2 Score: 0.4890480587625172\n"
     ]
    }
   ],
   "source": [
    "# 线性回归\n",
    "from sklearn.linear_model import LinearRegression\n",
    "\n",
    "# 初始化线性回归模型\n",
    "lr = LinearRegression()\n",
    "\n",
    "# 在训练集上拟合模型\n",
    "lr.fit(X_train, y_train[:,0])\n",
    "\n",
    "# 在测试集上预测\n",
    "y_pred = lr.predict(X_test)\n",
    "y_pred \n",
    "assess('线性回归',y_pred)"
   ]
  },
  {
   "cell_type": "code",
   "execution_count": 14,
   "metadata": {},
   "outputs": [
    {
     "name": "stdout",
     "output_type": "stream",
     "text": [
      "Mean Squared Error: 95005203.97728378\n",
      "Mean Absolute Error: 2606.32636551897\n",
      "R2 Score: 0.6969696870268025\n"
     ]
    }
   ],
   "source": [
    "# 随机森林回归\n",
    "from sklearn.ensemble import RandomForestRegressor\n",
    "# 初始化随机森林回归模型\n",
    "rf_regressor = RandomForestRegressor()\n",
    "\n",
    "# 在训练集上拟合模型\n",
    "rf_regressor.fit(X_train, y_train[:,0])\n",
    "\n",
    "# 在测试集上预测\n",
    "y_pred = rf_regressor.predict(X_test)\n",
    "\n",
    "# 评估模型性能\n",
    "assess('随机森林回归',y_pred)"
   ]
  },
  {
   "cell_type": "code",
   "execution_count": 15,
   "metadata": {},
   "outputs": [
    {
     "name": "stdout",
     "output_type": "stream",
     "text": [
      "Mean Squared Error: 171796696.65823117\n",
      "Mean Absolute Error: 3463.049438081205\n",
      "R2 Score: 0.45203415627050314\n"
     ]
    }
   ],
   "source": [
    "# 支持向量机\n",
    "from sklearn.svm import SVR\n",
    "# 初始化 SVR 模型\n",
    "svr = SVR(kernel='linear', C=1.0, epsilon=0.1)  # 使用线性核函数，设置正则化参数 C 和 epsilon\n",
    "\n",
    "# 在训练集上拟合模型\n",
    "svr.fit(X_train, y_train[:,0])\n",
    "\n",
    "# 在测试集上预测\n",
    "y_pred = svr.predict(X_test)\n",
    "\n",
    "# 评估模型性能\n",
    "assess('支持向量机',y_pred)"
   ]
  },
  {
   "cell_type": "code",
   "execution_count": 16,
   "metadata": {},
   "outputs": [
    {
     "name": "stdout",
     "output_type": "stream",
     "text": [
      "Mean Squared Error: 109174042.20525865\n",
      "Mean Absolute Error: 3065.288173659446\n",
      "R2 Score: 0.6517765049384145\n"
     ]
    }
   ],
   "source": [
    "# K近邻回归\n",
    "from sklearn.neighbors import KNeighborsRegressor\n",
    "k = 5  # 设置K值\n",
    "knn_regressor = KNeighborsRegressor(n_neighbors=k)\n",
    "\n",
    "# 在训练集上拟合模型\n",
    "knn_regressor.fit(X_train, y_train[:,0])\n",
    "\n",
    "# 在测试集上预测\n",
    "y_pred = knn_regressor.predict(X_test)\n",
    "\n",
    "# 评估模型性能\n",
    "assess('K近邻',y_pred)"
   ]
  },
  {
   "cell_type": "code",
   "execution_count": 17,
   "metadata": {},
   "outputs": [
    {
     "name": "stdout",
     "output_type": "stream",
     "text": [
      "Mean Squared Error: 109174042.20525865\n",
      "Mean Absolute Error: 3065.288173659446\n",
      "R2 Score: 0.6517765049384145\n"
     ]
    }
   ],
   "source": [
    "# 决策树回归\n",
    "from sklearn.tree import DecisionTreeRegressor\n",
    "# 初始化决策树回归模型\n",
    "dt_regressor = DecisionTreeRegressor(random_state=42)\n",
    "# 在训练集上拟合模型\n",
    "dt_regressor.fit(X_train, y_train[:,0])\n",
    "# 评估模型性能\n",
    "assess('决策树',y_pred)"
   ]
  },
  {
   "cell_type": "code",
   "execution_count": 18,
   "metadata": {},
   "outputs": [
    {
     "name": "stdout",
     "output_type": "stream",
     "text": [
      "Mean Squared Error: 131927988.5819059\n",
      "Mean Absolute Error: 3184.5311322712087\n",
      "R2 Score: 0.579200106980894\n"
     ]
    }
   ],
   "source": [
    "# 梯度提升回归\n",
    "from sklearn.ensemble import GradientBoostingRegressor\n",
    "# 初始化梯度提升回归模型\n",
    "gb_regressor = GradientBoostingRegressor(random_state=42)\n",
    "\n",
    "# 在训练集上拟合模型\n",
    "gb_regressor.fit(X_train, y_train[:,0])\n",
    "\n",
    "# 在测试集上进行预测\n",
    "y_pred = gb_regressor.predict(X_test)\n",
    "# 评估模型性能\n",
    "assess(' 梯度提升',y_pred)"
   ]
  },
  {
   "cell_type": "code",
   "execution_count": 19,
   "metadata": {},
   "outputs": [
    {
     "name": "stdout",
     "output_type": "stream",
     "text": [
      "Mean Squared Error: 130283383.8665336\n",
      "Mean Absolute Error: 3102.437488790286\n",
      "R2 Score: 0.5844457678579089\n"
     ]
    }
   ],
   "source": [
    "# 核岭回归\n",
    "from sklearn.kernel_ridge import KernelRidge\n",
    "# 初始化核岭回归模型\n",
    "krr = KernelRidge(kernel='rbf', alpha=1.0, gamma=0.1)\n",
    "\n",
    "# 在训练集上拟合模型\n",
    "krr.fit(X_train, y_train[:,0])\n",
    "# 在测试集上进行预测\n",
    "y_pred = krr.predict(X_test)\n",
    "# 评估模型性能\n",
    "assess(' 核岭回归',y_pred)"
   ]
  },
  {
   "cell_type": "code",
   "execution_count": 20,
   "metadata": {},
   "outputs": [
    {
     "name": "stdout",
     "output_type": "stream",
     "text": [
      "Epoch [10/1000], Loss: 9975.1875\n",
      "Epoch [20/1000], Loss: 9886.9170\n",
      "Epoch [30/1000], Loss: 9746.3770\n",
      "Epoch [40/1000], Loss: 9531.2598\n",
      "Epoch [50/1000], Loss: 9220.4795\n",
      "Epoch [60/1000], Loss: 8792.1992\n",
      "Epoch [70/1000], Loss: 8228.2529\n",
      "Epoch [80/1000], Loss: 7524.3545\n",
      "Epoch [90/1000], Loss: 6698.1729\n",
      "Epoch [100/1000], Loss: 5796.6475\n",
      "Epoch [110/1000], Loss: 4895.1733\n",
      "Epoch [120/1000], Loss: 4090.2051\n",
      "Epoch [130/1000], Loss: 3470.1191\n",
      "Epoch [140/1000], Loss: 3072.5098\n",
      "Epoch [150/1000], Loss: 2863.4595\n",
      "Epoch [160/1000], Loss: 2766.8962\n",
      "Epoch [170/1000], Loss: 2719.0791\n",
      "Epoch [180/1000], Loss: 2690.2017\n",
      "Epoch [190/1000], Loss: 2670.9319\n",
      "Epoch [200/1000], Loss: 2657.4819\n",
      "Epoch [210/1000], Loss: 2647.1792\n",
      "Epoch [220/1000], Loss: 2638.4304\n",
      "Epoch [230/1000], Loss: 2630.5586\n",
      "Epoch [240/1000], Loss: 2623.3286\n",
      "Epoch [250/1000], Loss: 2616.5542\n",
      "Epoch [260/1000], Loss: 2610.1616\n",
      "Epoch [270/1000], Loss: 2604.0823\n",
      "Epoch [280/1000], Loss: 2598.2832\n",
      "Epoch [290/1000], Loss: 2592.7366\n",
      "Epoch [300/1000], Loss: 2587.4287\n",
      "Epoch [310/1000], Loss: 2582.3435\n",
      "Epoch [320/1000], Loss: 2577.4595\n",
      "Epoch [330/1000], Loss: 2572.7590\n",
      "Epoch [340/1000], Loss: 2568.2544\n",
      "Epoch [350/1000], Loss: 2563.9424\n",
      "Epoch [360/1000], Loss: 2559.8120\n",
      "Epoch [370/1000], Loss: 2555.8142\n",
      "Epoch [380/1000], Loss: 2551.9338\n",
      "Epoch [390/1000], Loss: 2548.1838\n",
      "Epoch [400/1000], Loss: 2544.5740\n",
      "Epoch [410/1000], Loss: 2541.1089\n",
      "Epoch [420/1000], Loss: 2537.7913\n",
      "Epoch [430/1000], Loss: 2534.6013\n",
      "Epoch [440/1000], Loss: 2531.5093\n",
      "Epoch [450/1000], Loss: 2528.5261\n",
      "Epoch [460/1000], Loss: 2525.6482\n",
      "Epoch [470/1000], Loss: 2522.8640\n",
      "Epoch [480/1000], Loss: 2520.1733\n",
      "Epoch [490/1000], Loss: 2517.5605\n",
      "Epoch [500/1000], Loss: 2515.0408\n",
      "Epoch [510/1000], Loss: 2512.6047\n",
      "Epoch [520/1000], Loss: 2510.2551\n",
      "Epoch [530/1000], Loss: 2507.9814\n",
      "Epoch [540/1000], Loss: 2505.7783\n",
      "Epoch [550/1000], Loss: 2503.6453\n",
      "Epoch [560/1000], Loss: 2501.5835\n",
      "Epoch [570/1000], Loss: 2499.5984\n",
      "Epoch [580/1000], Loss: 2497.6741\n",
      "Epoch [590/1000], Loss: 2495.8137\n",
      "Epoch [600/1000], Loss: 2494.0139\n",
      "Epoch [610/1000], Loss: 2492.2715\n",
      "Epoch [620/1000], Loss: 2490.5769\n",
      "Epoch [630/1000], Loss: 2488.9246\n",
      "Epoch [640/1000], Loss: 2487.3164\n",
      "Epoch [650/1000], Loss: 2485.7515\n",
      "Epoch [660/1000], Loss: 2484.2324\n",
      "Epoch [670/1000], Loss: 2482.7722\n",
      "Epoch [680/1000], Loss: 2481.3647\n",
      "Epoch [690/1000], Loss: 2480.0022\n",
      "Epoch [700/1000], Loss: 2478.6619\n",
      "Epoch [710/1000], Loss: 2477.3384\n",
      "Epoch [720/1000], Loss: 2476.0391\n",
      "Epoch [730/1000], Loss: 2474.7676\n",
      "Epoch [740/1000], Loss: 2473.5327\n",
      "Epoch [750/1000], Loss: 2472.3372\n",
      "Epoch [760/1000], Loss: 2471.1714\n",
      "Epoch [770/1000], Loss: 2470.0381\n",
      "Epoch [780/1000], Loss: 2468.9165\n",
      "Epoch [790/1000], Loss: 2467.8242\n",
      "Epoch [800/1000], Loss: 2466.7534\n",
      "Epoch [810/1000], Loss: 2465.7043\n",
      "Epoch [820/1000], Loss: 2464.6853\n",
      "Epoch [830/1000], Loss: 2463.6970\n",
      "Epoch [840/1000], Loss: 2462.7280\n",
      "Epoch [850/1000], Loss: 2461.7761\n",
      "Epoch [860/1000], Loss: 2460.8435\n",
      "Epoch [870/1000], Loss: 2459.9248\n",
      "Epoch [880/1000], Loss: 2459.0200\n",
      "Epoch [890/1000], Loss: 2458.1318\n",
      "Epoch [900/1000], Loss: 2457.2573\n",
      "Epoch [910/1000], Loss: 2456.3987\n",
      "Epoch [920/1000], Loss: 2455.5576\n",
      "Epoch [930/1000], Loss: 2454.7397\n",
      "Epoch [940/1000], Loss: 2453.9426\n",
      "Epoch [950/1000], Loss: 2453.1575\n",
      "Epoch [960/1000], Loss: 2452.3796\n",
      "Epoch [970/1000], Loss: 2451.6084\n",
      "Epoch [980/1000], Loss: 2450.8372\n",
      "Epoch [990/1000], Loss: 2450.0654\n",
      "Epoch [1000/1000], Loss: 2449.3008\n"
     ]
    },
    {
     "data": {
      "text/plain": [
       "NeuralNetwork(\n",
       "  (layer1): Linear(in_features=15, out_features=64, bias=True)\n",
       "  (layer2): Linear(in_features=64, out_features=64, bias=True)\n",
       "  (output): Linear(in_features=64, out_features=1, bias=True)\n",
       ")"
      ]
     },
     "execution_count": 20,
     "metadata": {},
     "output_type": "execute_result"
    }
   ],
   "source": [
    "import torch\n",
    "import torch.nn as nn\n",
    "import torch.optim as optim\n",
    "from sklearn.preprocessing import StandardScaler\n",
    "# 标准化处理\n",
    "scaler = StandardScaler()\n",
    "X_train_scaled = scaler.fit_transform(X_train)\n",
    "X_test_scaled = scaler.transform(X_test)\n",
    "\n",
    "# 转换为 PyTorch 张量\n",
    "X_train_tensor = torch.tensor(X_train_scaled, dtype=torch.float32)\n",
    "X_test_tensor = torch.tensor(X_test_scaled, dtype=torch.float32)\n",
    "y_train_tensor = torch.tensor(y_train[:,0], dtype=torch.float32).view(-1, 1)\n",
    "y_test_tensor = torch.tensor(y_test[:,0], dtype=torch.float32).view(-1, 1)\n",
    "\n",
    "# 定义神经网络模型\n",
    "class NeuralNetwork(nn.Module):\n",
    "    def __init__(self):\n",
    "        super(NeuralNetwork, self).__init__()\n",
    "        self.layer1 = nn.Linear(X_train_tensor.shape[1], 64)\n",
    "        self.layer2 = nn.Linear(64, 64)\n",
    "        self.output = nn.Linear(64, 1)\n",
    "\n",
    "    def forward(self, x):\n",
    "        x = torch.relu(self.layer1(x))\n",
    "        x = torch.relu(self.layer2(x))\n",
    "        x = self.output(x)\n",
    "        return x\n",
    "\n",
    "# 实例化模型\n",
    "model = NeuralNetwork()\n",
    "\n",
    "# 定义损失函数和优化器\n",
    "criterion = nn.MSELoss()\n",
    "optimizer = optim.Adam(model.parameters(), lr=0.001)\n",
    "\n",
    "# 训练模型\n",
    "num_epochs = 1000\n",
    "for epoch in range(num_epochs):\n",
    "    model.train()\n",
    "    optimizer.zero_grad()\n",
    "    outputs = model(X_train_tensor)\n",
    "    loss = criterion(outputs, y_train_tensor)\n",
    "    loss.backward()\n",
    "    optimizer.step()\n",
    "\n",
    "    if (epoch+1) % 10 == 0:\n",
    "        print(f'Epoch [{epoch+1}/{num_epochs}], Loss: {loss.item():.4f}')\n",
    "\n",
    "# 评估模型\n",
    "model.eval()\n"
   ]
  },
  {
   "cell_type": "code",
   "execution_count": 21,
   "metadata": {},
   "outputs": [
    {
     "name": "stdout",
     "output_type": "stream",
     "text": [
      "Mean Squared Error: 62066939.87\n",
      "Mean Absolute Error: 2594.47\n"
     ]
    }
   ],
   "source": [
    "with torch.no_grad():\n",
    "    y_pred = model(X_test_tensor)\n",
    "    mse = mean_squared_error(y_test_tensor.numpy()*y_test[:,1], y_pred.numpy()*y_test[:,1])\n",
    "    mae = mean_absolute_error(y_test_tensor.numpy()*y_test[:,1], y_pred.numpy()*y_test[:,1])\n",
    "    # r2 = r2_score(y_test_tensor.numpy()[:,0]*y_test[:,1], y_pred.numpy()*y_test[:,1])\n",
    "    models.append('深度学习神经网络模型')\n",
    "    mse_scores.append(mse)\n",
    "    mae_scores.append(mae)\n",
    "    # r2_scores.append(r2)\n",
    "print(f\"Mean Squared Error: {mse:.2f}\")\n",
    "print(f\"Mean Absolute Error: {mae:.2f}\")"
   ]
  },
  {
   "cell_type": "code",
   "execution_count": 22,
   "metadata": {},
   "outputs": [
    {
     "data": {
      "image/png": "[encoded data removed]",
      "text/plain": [
       "<Figure size 1000x600 with 1 Axes>"
      ]
     },
     "metadata": {},
     "output_type": "display_data"
    }
   ],
   "source": [
    "import matplotlib.pyplot as plt\n",
    "import numpy as np\n",
    "# 设置中文字体（根据您的系统和字体库进行调整）\n",
    "plt.rcParams['font.sans-serif'] = ['SimHei']  # 设置中文显示使用的字体\n",
    "# 设置条形图的宽度\n",
    "bar_width = 0.35\n",
    "index = np.arange(len(models))\n",
    "\n",
    "# 绘制条形图\n",
    "fig, ax = plt.subplots(figsize=(10, 6))\n",
    "# bar1 = ax.bar(index - bar_width/2, mse_scores, bar_width, label='Mean Squared Error (MSE)', color='skyblue')\n",
    "bar2 = ax.bar(index + bar_width/2, mae_scores, bar_width, label='模型平均绝对误差 (MAE)', color='lightgreen')\n",
    "# bar3 = ax.bar(index + bar_width/2, r2_scores, bar_width, label='R平方（R-squared, R²）', color='lightgreen')\n",
    "\n",
    "# 添加标签、标题和图例\n",
    "ax.set_xlabel('Models')\n",
    "ax.set_ylabel('Error')\n",
    "ax.set_title('使用总价作为预测目标的模型性能')\n",
    "ax.set_xticks(index)\n",
    "ax.set_xticklabels(models)\n",
    "ax.legend()\n",
    "\n",
    "# 显示数值标签\n",
    "def autolabel(bars):\n",
    "    for bar in bars:\n",
    "        height = bar.get_height()\n",
    "        ax.annotate('{:.2f}'.format(height),\n",
    "                    xy=(bar.get_x() + bar.get_width() / 2, height),\n",
    "                    xytext=(0, 3),  # 3 points vertical offset\n",
    "                    textcoords=\"offset points\",\n",
    "                    ha='center', va='bottom')\n",
    "\n",
    "# autolabel(bar1)\n",
    "autolabel(bar2)\n",
    "# autolabel(bar3)\n",
    "\n",
    "plt.tight_layout()\n",
    "plt.show()\n"
   ]
  },
  {
   "cell_type": "code",
   "execution_count": 23,
   "metadata": {},
   "outputs": [],
   "source": [
    "def actualPrediction(idx):\n",
    "    y_pred = rf_regressor.predict(X[[idx],:])\n",
    "    y_true = getPrice(data[[idx],:])\n",
    "    y_pred*y_true[1],y_true[0]*y_true[1]\n",
    "    print(f'预测值：{y_pred*y_true[1]}，实际值：{y_true[0]*y_true[1]}，误差：{y_pred*y_true[1]-y_true[0]*y_true[1]}')"
   ]
  },
  {
   "cell_type": "code",
   "execution_count": 24,
   "metadata": {},
   "outputs": [
    {
     "name": "stdout",
     "output_type": "stream",
     "text": [
      "预测值：[5406.98491436]，实际值：[4600.]，误差：[806.98491436]\n"
     ]
    }
   ],
   "source": [
    "# 使用随机森林模型预测第一条数据\n",
    "actualPrediction(1)"
   ]
  },
  {
   "cell_type": "code",
   "execution_count": 25,
   "metadata": {},
   "outputs": [
    {
     "name": "stdout",
     "output_type": "stream",
     "text": [
      "预测值：[166817.60214976]，实际值：[220000.]，误差：[-53182.39785024]\n"
     ]
    }
   ],
   "source": [
    "# 使用随机森林模型预测第六条数据\n",
    "actualPrediction(6)"
   ]
  },
  {
   "cell_type": "code",
   "execution_count": null,
   "metadata": {},
   "outputs": [],
   "source": []
  }
 ],
 "metadata": {
  "kernelspec": {
   "display_name": "base",
   "language": "python",
   "name": "python3"
  },
  "language_info": {
   "codemirror_mode": {
    "name": "ipython",
    "version": 3
   },
   "file_extension": ".py",
   "mimetype": "text/x-python",
   "name": "python",
   "nbconvert_exporter": "python",
   "pygments_lexer": "ipython3",
   "version": "3.11.7"
  }
 },
 "nbformat": 4,
 "nbformat_minor": 2
}
