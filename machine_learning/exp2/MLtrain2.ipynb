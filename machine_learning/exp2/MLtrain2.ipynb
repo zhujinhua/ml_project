{
 "cells": [
  {
   "cell_type": "code",
   "execution_count": 1,
   "metadata": {},
   "outputs": [
    {
     "data": {
      "text/plain": [
       "31"
      ]
     },
     "execution_count": 1,
     "metadata": {},
     "output_type": "execute_result"
    }
   ],
   "source": [
    "data=[]\n",
    "file_name = \"../../dataset/中国租房信息数据集.csv\"\n",
    "with open(file=file_name,mode='r',encoding='utf8') as f:\n",
    "    keys = f.readline().strip().split(',')\n",
    "    keys = keys[1:3]+keys[-29:]\n",
    "    for idx,line in enumerate(f):\n",
    "        line = line.strip()\n",
    "        # 删除地址详情列\n",
    "        if line:\n",
    "            line = line.split(',')\n",
    "            line = line[1:3]+line[-29:]\n",
    "        data.append(line)\n",
    "import numpy as np\n",
    "data = np.array(data, dtype=object)\n",
    "data_dict = {keys[i]: data[:, i] for i in range(data.shape[1])}\n",
    "len(data_dict)"
   ]
  },
  {
   "cell_type": "code",
   "execution_count": 2,
   "metadata": {},
   "outputs": [],
   "source": [
    "# 条形图数据初始化\n",
    "models = []\n",
    "mse_scores = []   # 均方误差（MSE）分数\n",
    "mae_scores = []     # 平均绝对误差（MAE）分数"
   ]
  },
  {
   "cell_type": "code",
   "execution_count": 3,
   "metadata": {},
   "outputs": [],
   "source": [
    "import pandas as pd\n",
    "import numpy as np\n",
    "from sklearn.model_selection import train_test_split\n",
    "from sklearn.preprocessing import StandardScaler, OneHotEncoder, MinMaxScaler\n",
    "from sklearn.compose import ColumnTransformer\n",
    "from sklearn.pipeline import Pipeline\n",
    "from sklearn.impute import SimpleImputer\n",
    "from sklearn.metrics import mean_squared_error, mean_absolute_error\n",
    "from sklearn.decomposition import PCA\n",
    "\n",
    "\n",
    "df = pd.DataFrame(data_dict)\n",
    "\n",
    "# 特征和目标变量\n",
    "X = df.drop(columns=['价格'])\n",
    "y = pd.to_numeric(df['价格'])\n",
    "# y = df['价格']\n",
    "# 划分训练集和测试集\n",
    "X_train, X_test, y_train, y_test = train_test_split(X, y, test_size=0.2, random_state=42)\n",
    "\n",
    "# 数值特征\n",
    "numeric_features = ['面积','lng','lat','最近学校距离','周边学校个数','最近医院距离','周边医院个数']\n",
    "\n",
    "# 类别特征\n",
    "categorical_features = ['租房网站名称', '小区', '城市','区','室','卫','厅','朝向',\n",
    "'所属楼层','总楼层','是否有阳台','信息发布人类型','是否有床','是否有衣柜','是否有沙发',\n",
    "'是否有电视','是否有冰箱','是否有洗衣机','是否有空调','是否有热水器','是否有宽带',\n",
    "'是否有燃气','是否有暖气']\n",
    "\n",
    "# 数值特征处理：缺失值填补+标准化\n",
    "numeric_transformer = Pipeline(steps=[\n",
    "    ('imputer', SimpleImputer(strategy='mean')),\n",
    "    ('scaler', StandardScaler()),('pca', PCA(n_components=5))\n",
    "])\n",
    "\n",
    "# 类别特征处理：缺失值填补+独热编码\n",
    "categorical_transformer = Pipeline(steps=[\n",
    "    ('imputer', SimpleImputer(strategy='constant', fill_value='missing')),\n",
    "    ('onehot', OneHotEncoder(handle_unknown='ignore'))\n",
    "])\n",
    "\n",
    "\n",
    "# 将所有处理步骤整合到 ColumnTransformer\n",
    "preprocessor = ColumnTransformer(\n",
    "    transformers=[\n",
    "        ('num', numeric_transformer, numeric_features),\n",
    "        ('cat', categorical_transformer, categorical_features)\n",
    "    ])\n"
   ]
  },
  {
   "cell_type": "code",
   "execution_count": 4,
   "metadata": {},
   "outputs": [
    {
     "name": "stdout",
     "output_type": "stream",
     "text": [
      "Transformed Numeric Data:\n",
      " [[-1.08236236 -1.18462777  0.29024509  0.15726283 -0.05551147]\n",
      " [-2.01607925 -0.85552705  1.11177865 -0.46946904 -0.08979506]\n",
      " [-1.04486146 -0.64111212  0.25392888  1.30999367  0.50613299]\n",
      " ...\n",
      " [-2.27494916  0.14667134 -0.78767013  1.1408815   1.7930594 ]\n",
      " [-2.47892007  0.31810764 -1.11037559  0.78525693  1.49844387]\n",
      " [-2.44719844  0.22649095 -1.19131864  0.70320474  1.54122334]]\n",
      "Transformed Categorical Data:\n",
      " [[0. 1. 0. ... 1. 0. 1.]\n",
      " [0. 1. 0. ... 0. 1. 0.]\n",
      " [0. 1. 0. ... 1. 0. 1.]\n",
      " ...\n",
      " [0. 0. 1. ... 1. 1. 0.]\n",
      " [0. 0. 1. ... 1. 1. 0.]\n",
      " [0. 0. 1. ... 1. 1. 0.]]\n"
     ]
    }
   ],
   "source": [
    "# 查看处理后的数据\n",
    "# 使用数值转换器处理数值特征\n",
    "numeric_data_transformed = numeric_transformer.fit_transform(df[numeric_features])\n",
    "print(\"Transformed Numeric Data:\\n\", numeric_data_transformed)\n",
    "\n",
    "# 使用分类转换器处理分类特征\n",
    "categorical_data_transformed = categorical_transformer.fit_transform(df[categorical_features])\n",
    "print(\"Transformed Categorical Data:\\n\", categorical_data_transformed.toarray())\n"
   ]
  },
  {
   "cell_type": "code",
   "execution_count": 5,
   "metadata": {},
   "outputs": [],
   "source": [
    "\n",
    "def MLtrain(regressorModel):\n",
    "\n",
    "    \n",
    "    # 将预处理步骤和回归模型整合到 Pipeline 中\n",
    "    model = Pipeline(steps=[('preprocessor', preprocessor),\n",
    "                            ('regressor', regressorModel)])\n",
    "    \n",
    "\n",
    "    # 训练模型\n",
    "    model.fit(X_train, y_train)\n",
    "\n",
    "    # 预测和评估\n",
    "    y_pred = model.predict(X_test)\n",
    "    mse = mean_squared_error(y_test, y_pred)\n",
    "    mae = mean_absolute_error(y_test, y_pred)\n",
    "\n",
    "    print(f\"Mean Squared Error: {mse:.2f}\")\n",
    "    print(f\"Mean Absolute Error: {mae:.2f}\")\n",
    "\n",
    "    # 条形图数据\n",
    "    \n",
    "    mse_scores.append(mse)\n",
    "    mae_scores.append(mae)\n",
    "\n",
    "    return model\n"
   ]
  },
  {
   "cell_type": "code",
   "execution_count": 6,
   "metadata": {},
   "outputs": [
    {
     "name": "stdout",
     "output_type": "stream",
     "text": [
      "Mean Squared Error: 130007065.30\n",
      "Mean Absolute Error: 2846.40\n"
     ]
    },
    {
     "data": {
      "text/plain": [
       "['./models2/linearRegressionModel.pkl']"
      ]
     },
     "execution_count": 6,
     "metadata": {},
     "output_type": "execute_result"
    }
   ],
   "source": [
    "# 使用线性回归得到模型\n",
    "from sklearn.linear_model import LinearRegression\n",
    "models.append('线性回归')\n",
    "linearRegressionModel = MLtrain(LinearRegression())\n",
    "# 线性回归模型保存\n",
    "import joblib\n",
    "joblib.dump(linearRegressionModel, './models2/linearRegressionModel.pkl')"
   ]
  },
  {
   "cell_type": "code",
   "execution_count": 7,
   "metadata": {},
   "outputs": [
    {
     "name": "stdout",
     "output_type": "stream",
     "text": [
      "Mean Squared Error: 56708302.70\n",
      "Mean Absolute Error: 1771.53\n"
     ]
    },
    {
     "data": {
      "text/plain": [
       "['./models2/randomForestRegressorModel.pkl']"
      ]
     },
     "execution_count": 7,
     "metadata": {},
     "output_type": "execute_result"
    }
   ],
   "source": [
    "# 随机森林回归\n",
    "from sklearn.ensemble import RandomForestRegressor\n",
    "models.append('随机森林回归')\n",
    "randomForestRegressorModel = MLtrain(RandomForestRegressor())\n",
    "joblib.dump(randomForestRegressorModel, './models2/randomForestRegressorModel.pkl')"
   ]
  },
  {
   "cell_type": "code",
   "execution_count": 8,
   "metadata": {},
   "outputs": [
    {
     "name": "stdout",
     "output_type": "stream",
     "text": [
      "Mean Squared Error: 229178640.80\n",
      "Mean Absolute Error: 5233.83\n"
     ]
    },
    {
     "data": {
      "text/plain": [
       "['./models2/SVRModel.pkl']"
      ]
     },
     "execution_count": 8,
     "metadata": {},
     "output_type": "execute_result"
    }
   ],
   "source": [
    "# 支持向量机\n",
    "from sklearn.svm import SVR\n",
    "\n",
    "models.append('支持向量机')\n",
    "SVRModel = MLtrain(SVR())\n",
    "joblib.dump(SVRModel, './models2/SVRModel.pkl')"
   ]
  },
  {
   "cell_type": "code",
   "execution_count": 9,
   "metadata": {},
   "outputs": [
    {
     "name": "stdout",
     "output_type": "stream",
     "text": [
      "Mean Squared Error: 90604668.59\n",
      "Mean Absolute Error: 2361.35\n"
     ]
    },
    {
     "data": {
      "text/plain": [
       "['./models2/kNeighborsRegressorModel.pkl']"
      ]
     },
     "execution_count": 9,
     "metadata": {},
     "output_type": "execute_result"
    }
   ],
   "source": [
    "# K近邻回归\n",
    "from sklearn.neighbors import KNeighborsRegressor\n",
    "models.append('K近邻回归')\n",
    "kNeighborsRegressorModel = MLtrain(KNeighborsRegressor(n_neighbors=5))\n",
    "joblib.dump(kNeighborsRegressorModel, './models2/kNeighborsRegressorModel.pkl')"
   ]
  },
  {
   "cell_type": "code",
   "execution_count": 10,
   "metadata": {},
   "outputs": [
    {
     "name": "stdout",
     "output_type": "stream",
     "text": [
      "Mean Squared Error: 124942641.17\n",
      "Mean Absolute Error: 2283.17\n"
     ]
    },
    {
     "data": {
      "text/plain": [
       "['./models2/decisionTreeRegressorModel.pkl']"
      ]
     },
     "execution_count": 10,
     "metadata": {},
     "output_type": "execute_result"
    }
   ],
   "source": [
    "# 决策树回归\n",
    "from sklearn.tree import DecisionTreeRegressor\n",
    "models.append('决策树回归')\n",
    "decisionTreeRegressorModel = MLtrain(DecisionTreeRegressor())\n",
    "joblib.dump(decisionTreeRegressorModel, './models2/decisionTreeRegressorModel.pkl')"
   ]
  },
  {
   "cell_type": "code",
   "execution_count": 11,
   "metadata": {},
   "outputs": [
    {
     "name": "stdout",
     "output_type": "stream",
     "text": [
      "Mean Squared Error: 59879410.46\n",
      "Mean Absolute Error: 2753.28\n"
     ]
    },
    {
     "data": {
      "text/plain": [
       "['./models2/gradientBoostingRegressorModel.pkl']"
      ]
     },
     "execution_count": 11,
     "metadata": {},
     "output_type": "execute_result"
    }
   ],
   "source": [
    "# 梯度提升回归\n",
    "from sklearn.ensemble import GradientBoostingRegressor\n",
    "models.append('梯度提升回归')\n",
    "gradientBoostingRegressorModel = MLtrain(GradientBoostingRegressor())\n",
    "joblib.dump(gradientBoostingRegressorModel, './models2/gradientBoostingRegressorModel.pkl')"
   ]
  },
  {
   "cell_type": "code",
   "execution_count": 12,
   "metadata": {},
   "outputs": [
    {
     "data": {
      "image/png": "[encoded data removed]",
      "text/plain": [
       "<Figure size 1000x600 with 1 Axes>"
      ]
     },
     "metadata": {},
     "output_type": "display_data"
    }
   ],
   "source": [
    "import matplotlib.pyplot as plt\n",
    "import numpy as np\n",
    "# 设置中文字体（根据您的系统和字体库进行调整）\n",
    "plt.rcParams['font.sans-serif'] = ['SimHei']  # 设置中文显示使用的字体\n",
    "# 设置条形图的宽度\n",
    "bar_width = 0.35\n",
    "index = np.arange(len(models))\n",
    "\n",
    "# 绘制条形图\n",
    "fig, ax = plt.subplots(figsize=(10, 6))\n",
    "# bar1 = ax.bar(index - bar_width/2, mse_scores, bar_width, label='Mean Squared Error (MSE)', color='skyblue')\n",
    "bar2 = ax.bar(index + bar_width/2, mae_scores, bar_width, label='模型平均绝对误差 (MAE)', color='lightgreen')\n",
    "# bar3 = ax.bar(index + bar_width/2, r2_scores, bar_width, label='R平方（R-squared, R²）', color='lightgreen')\n",
    "\n",
    "# 添加标签、标题和图例\n",
    "ax.set_xlabel('Models')\n",
    "ax.set_ylabel('Error')\n",
    "ax.set_title('模型性能PK(平均绝对误差)')\n",
    "ax.set_xticks(index)\n",
    "ax.set_xticklabels(models)\n",
    "ax.legend()\n",
    "\n",
    "# 显示数值标签\n",
    "def autolabel(bars):\n",
    "    for bar in bars:\n",
    "        height = bar.get_height()\n",
    "        ax.annotate('{:.2f}'.format(height),\n",
    "                    xy=(bar.get_x() + bar.get_width() / 2, height),\n",
    "                    xytext=(0, 3),  # 3 points vertical offset\n",
    "                    textcoords=\"offset points\",\n",
    "                    ha='center', va='bottom')\n",
    "\n",
    "# autolabel(bar1)\n",
    "autolabel(bar2)\n",
    "# autolabel(bar3)\n",
    "\n",
    "plt.tight_layout()\n",
    "plt.show()\n"
   ]
  },
  {
   "cell_type": "code",
   "execution_count": null,
   "metadata": {},
   "outputs": [],
   "source": []
  }
 ],
 "metadata": {
  "kernelspec": {
   "display_name": "base",
   "language": "python",
   "name": "python3"
  },
  "language_info": {
   "codemirror_mode": {
    "name": "ipython",
    "version": 3
   },
   "file_extension": ".py",
   "mimetype": "text/x-python",
   "name": "python",
   "nbconvert_exporter": "python",
   "pygments_lexer": "ipython3",
   "version": "3.11.7"
  }
 },
 "nbformat": 4,
 "nbformat_minor": 2
}
